{
  "nbformat": 4,
  "nbformat_minor": 0,
  "metadata": {
    "colab": {
      "name": "Bugs.ipynb",
      "provenance": [],
      "collapsed_sections": []
    },
    "kernelspec": {
      "name": "python3",
      "display_name": "Python 3"
    }
  },
  "cells": [
    {
      "cell_type": "code",
      "metadata": {
        "id": "61ozoG6E_Ifh"
      },
      "source": [
        "# -*- coding: utf-8 -*-\r\n",
        "import requests\r\n",
        "from bs4 import BeautifulSoup\r\n",
        "import pandas as pd"
      ],
      "execution_count": null,
      "outputs": []
    },
    {
      "cell_type": "code",
      "metadata": {
        "id": "UqIIUkGq_R8c"
      },
      "source": [
        "url = 'https://music.bugs.co.kr/chart' # 차트 주소 설정\r\n",
        "\r\n",
        "headers = {'User-Agent': 'Mozilla/5.0 (X11; CrOS i686 2268.111.0) AppleWebKit/536.11 (KHTML, like Gecko) Chrome/20.0.1132.57'}\r\n",
        "\r\n",
        "response = requests.get(url, headers=headers) # 해당 웹 페이지에서 데이터 받아오기\r\n",
        "\r\n",
        "html = BeautifulSoup(response.text, 'html.parser') # 받아온 데이터를 알아볼 수 있는 형태로 파싱(해석)"
      ],
      "execution_count": null,
      "outputs": []
    },
    {
      "cell_type": "code",
      "metadata": {
        "id": "2zikPses_a1w"
      },
      "source": [
        "# 제목 아티스트 추출\r\n",
        "title=html.find_all('p',class_='title')\r\n",
        "artist=html.find_all('p',class_='artist')"
      ],
      "execution_count": null,
      "outputs": []
    },
    {
      "cell_type": "code",
      "metadata": {
        "id": "sMeOxYQN_aAE"
      },
      "source": [
        "# 곡 정보 리스트화\r\n",
        "bugs={}\r\n",
        "bugs_t=[]\r\n",
        "bugs_a=[]\r\n",
        "bugs_s=[]\r\n",
        "temp_t=''\r\n",
        "\r\n",
        "for i in range(0,100):\r\n",
        "  # text cleaning\r\n",
        "  temp=artist[i].text\r\n",
        "  temp=temp.replace(\"\\n\",'')\r\n",
        "  temp=temp.replace(\"\\n\\n\",'')\r\n",
        "  if ('\\r' in temp):\r\n",
        "    for j in range(int(len(temp)/2)-1):\r\n",
        "      temp_t+=temp[j]\r\n",
        "    temp=temp_t\r\n",
        "    temp_t=''\r\n",
        "  bugs_a.append(temp)\r\n",
        "\r\n",
        "  temp=title[i].text\r\n",
        "  temp=temp.replace('\\n','')\r\n",
        "  #temp=temp.replace('\\r','')\r\n",
        "  bugs_t.append(temp)\r\n",
        "\r\n",
        "  bugs_s.append(i+1)\r\n",
        "\r\n",
        "bugs['rank']=bugs_s\r\n",
        "bugs['title']=bugs_t\r\n",
        "bugs['artist']=bugs_a\r\n",
        "\r\n",
        "bugs=pd.DataFrame(bugs)"
      ],
      "execution_count": null,
      "outputs": []
    },
    {
      "cell_type": "code",
      "metadata": {
        "id": "5qACCupYFzmk"
      },
      "source": [
        "# 리스트 csv 파일로 저장\r\n",
        "bugs.to_csv('BugsChart.csv')"
      ],
      "execution_count": null,
      "outputs": []
    }
  ]
}