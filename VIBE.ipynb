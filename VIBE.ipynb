{
  "nbformat": 4,
  "nbformat_minor": 0,
  "metadata": {
    "colab": {
      "name": "VIBE.ipynb",
      "provenance": []
    },
    "kernelspec": {
      "name": "python3",
      "display_name": "Python 3"
    }
  },
  "cells": [
    {
      "cell_type": "code",
      "metadata": {
        "id": "TT_17UjVO9_2"
      },
      "source": [
        "# -*- coding: utf-8 -*-\r\n",
        "import requests\r\n",
        "from bs4 import BeautifulSoup\r\n",
        "import pandas as pd"
      ],
      "execution_count": 5,
      "outputs": []
    },
    {
      "cell_type": "code",
      "metadata": {
        "id": "K4U41QTvL7-v"
      },
      "source": [
        "# 데이터가 존재하는 웹 페이지의 주소를 설정\r\n",
        "url = 'https://apis.naver.com/vibeWeb/musicapiweb/vibe/v1/chart/track/total'"
      ],
      "execution_count": 2,
      "outputs": []
    },
    {
      "cell_type": "code",
      "metadata": {
        "colab": {
          "base_uri": "https://localhost:8080/"
        },
        "id": "XB0I-EAJMar0",
        "outputId": "b86b9d07-e4bd-4fb3-ab1f-d0f0a4501705"
      },
      "source": [
        "pip install xmltodict # xml 파일을 딕셔너리 형태로 변환"
      ],
      "execution_count": 3,
      "outputs": [
        {
          "output_type": "stream",
          "text": [
            "Collecting xmltodict\n",
            "  Downloading https://files.pythonhosted.org/packages/28/fd/30d5c1d3ac29ce229f6bdc40bbc20b28f716e8b363140c26eff19122d8a5/xmltodict-0.12.0-py2.py3-none-any.whl\n",
            "Installing collected packages: xmltodict\n",
            "Successfully installed xmltodict-0.12.0\n"
          ],
          "name": "stdout"
        }
      ]
    },
    {
      "cell_type": "code",
      "metadata": {
        "id": "yZgQR3DwMEZZ"
      },
      "source": [
        "resp_v = requests.get(url) # 해당 웹 페이지에서 데이터 받아오기, API\r\n",
        "resp_v = resp_v.content"
      ],
      "execution_count": 6,
      "outputs": []
    },
    {
      "cell_type": "code",
      "metadata": {
        "id": "Gqr0CBk7NCG-"
      },
      "source": [
        "import xmltodict \r\n",
        "V = xmltodict.parse(resp_v)  # xml 파일을 딕셔너리 형태로 변환"
      ],
      "execution_count": 7,
      "outputs": []
    },
    {
      "cell_type": "code",
      "metadata": {
        "id": "4s2MfD_JOQnF"
      },
      "source": [
        "## 기본 경로 설정\r\n",
        "path=V['response']['result']['chart']['items']['tracks']['track']\r\n",
        "\r\n",
        "\r\n",
        "# 곡 정보 리스트화\r\n",
        "vibe={}\r\n",
        "vibe_t=[]\r\n",
        "vibe_a=[]\r\n",
        "vibe_r=[]\r\n",
        "art_v=''\r\n",
        "\r\n",
        "for i in range(0,100):\r\n",
        "  vibe_t.append(path[i]['trackTitle'])\r\n",
        "\r\n",
        "  # 가수가 6명이면 오류 *주의* (수정중)\r\n",
        "  if(len(path[i]['artists']['artist'])!=6):\r\n",
        "    for j in range(len(path[i]['artists']['artist'])):\r\n",
        "      art_v+=path[i]['artists']['artist'][j]['artistName']\r\n",
        "\r\n",
        "      if(j!=len(path[i]['artists']['artist'])-1):\r\n",
        "        art_v+=', '\r\n",
        "\r\n",
        "  else:\r\n",
        "      art_v+=path[i]['artists']['artist']['artistName']\r\n",
        "\r\n",
        "  vibe_a.append(art_v)\r\n",
        "  art_v=''\r\n",
        "  vibe_r.append(i+1)\r\n",
        "\r\n",
        "vibe['rank']=vibe_r\r\n",
        "vibe['title']=vibe_t\r\n",
        "vibe['artist']=vibe_a\r\n",
        "\r\n",
        "vibe=pd.DataFrame(vibe)"
      ],
      "execution_count": 15,
      "outputs": []
    },
    {
      "cell_type": "code",
      "metadata": {
        "id": "7bmWwYclOtJV"
      },
      "source": [
        "vibe.to_csv('VIBE.csv')"
      ],
      "execution_count": 16,
      "outputs": []
    }
  ]
}