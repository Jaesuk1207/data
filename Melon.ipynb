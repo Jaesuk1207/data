{
  "nbformat": 4,
  "nbformat_minor": 0,
  "metadata": {
    "colab": {
      "name": "Melon",
      "provenance": [],
      "collapsed_sections": []
    },
    "kernelspec": {
      "name": "python3",
      "display_name": "Python 3"
    }
  },
  "cells": [
    {
      "cell_type": "code",
      "metadata": {
        "id": "WGPE-QNUztNb"
      },
      "source": [
        "# -*- coding: utf-8 -*-\r\n",
        "import requests\r\n",
        "from bs4 import BeautifulSoup\r\n",
        "import pandas as pd"
      ],
      "execution_count": 1,
      "outputs": []
    },
    {
      "cell_type": "code",
      "metadata": {
        "id": "1XbcHq3g6jbt"
      },
      "source": [
        "url = 'https://www.melon.com/chart/index.htm' # 데이터가 존재하는 웹 페이지의 주소를 설정\r\n",
        "\r\n",
        "headers = {'User-Agent': 'Mozilla/5.0 (X11; CrOS i686 2268.111.0) AppleWebKit/536.11 (KHTML, like Gecko) Chrome/20.0.1132.57'}\r\n",
        "\r\n",
        "response = requests.get(url, headers=headers) # 해당 웹 페이지에서 데이터 받아오기\r\n",
        "\r\n",
        "html = BeautifulSoup(response.text, 'html.parser') # html을 알아볼 수 있는 형태로 beautifulsoup을 이용하여 파싱"
      ],
      "execution_count": 2,
      "outputs": []
    },
    {
      "cell_type": "code",
      "metadata": {
        "id": "CpuwgvAk6kIq"
      },
      "source": [
        "# 곡 정보 경로 설정\r\n",
        "m_title=html.find_all('div',class_='rank01')\r\n",
        "m_artist=html.find_all('div',class_='rank02')\r\n",
        "\r\n",
        "# 직접 경로 설정\r\n",
        "# m_title=html.select('.service_list_song > table > tbody > tr > td > div.wrap > div.wrap_song_info > div.ellipsis.rank01 > span')\r\n",
        "# m_singer=html.select('.service_list_song > table > tbody > tr > td > div.wrap > div.wrap_song_info > div.ellipsis.rank02 > span')"
      ],
      "execution_count": 3,
      "outputs": []
    },
    {
      "cell_type": "code",
      "metadata": {
        "id": "0-qMXFyD6kuW"
      },
      "source": [
        "# 곡 정보 리스트화\r\n",
        "melon={}\r\n",
        "melon_t=[]\r\n",
        "melon_a=[]\r\n",
        "melon_r=[]\r\n",
        "\r\n",
        "for i in range(100):\r\n",
        "  # text cleaning\r\n",
        "  t=m_title[i].text\r\n",
        "  t = t.replace('\\n','')\r\n",
        "  melon_t.append(t)\r\n",
        "  l=int(len(m_artist[i].text)/2)\r\n",
        "  t=m_artist[i].text[0:l]\r\n",
        "  t = t.replace('\\n','')\r\n",
        "  melon_a.append(t)\r\n",
        "\r\n",
        "  melon_r.append(i+1)\r\n",
        "\r\n",
        "melon['rank']=melon_r\r\n",
        "melon['title']=melon_t\r\n",
        "melon['artist']=melon_a\r\n",
        "\r\n",
        "melon=pd.DataFrame(melon)"
      ],
      "execution_count": 4,
      "outputs": []
    },
    {
      "cell_type": "code",
      "metadata": {
        "id": "EZSJ7GDWHWEi"
      },
      "source": [
        "# csv 파일로 저장\r\n",
        "melon.to_csv(\"MelonChart.csv\")"
      ],
      "execution_count": 5,
      "outputs": []
    }
  ]
}