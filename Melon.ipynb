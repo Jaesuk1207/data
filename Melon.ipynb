{
  "nbformat": 4,
  "nbformat_minor": 0,
  "metadata": {
    "colab": {
      "name": "Melon",
      "provenance": []
    },
    "kernelspec": {
      "name": "python3",
      "display_name": "Python 3"
    }
  },
  "cells": [
    {
      "cell_type": "markdown",
      "metadata": {
        "id": "UaeKMLpqztzf"
      },
      "source": [
        "## melon crawler"
      ]
    },
    {
      "cell_type": "code",
      "metadata": {
        "id": "WGPE-QNUztNb"
      },
      "source": [
        "# -*- coding: utf-8 -*-\r\n",
        "import requests\r\n",
        "from bs4 import BeautifulSoup\r\n",
        "import pandas as pd"
      ],
      "execution_count": 14,
      "outputs": []
    },
    {
      "cell_type": "code",
      "metadata": {
        "id": "1XbcHq3g6jbt"
      },
      "source": [
        "url = 'https://www.melon.com/chart/index.htm' # 데이터가 존재하는 웹 페이지의 주소를 설정\r\n",
        "\r\n",
        "headers = {'User-Agent': 'Mozilla/5.0 (X11; CrOS i686 2268.111.0) AppleWebKit/536.11 (KHTML, like Gecko) Chrome/20.0.1132.57'}\r\n",
        "\r\n",
        "response = requests.get(url, headers=headers) # 해당 웹 페이지에서 데이터 받아오기\r\n",
        "\r\n",
        "html = BeautifulSoup(response.text, 'html.parser') # html을 알아볼 수 있는 형태로 beautifulsoup을 이용하여 파싱"
      ],
      "execution_count": 15,
      "outputs": []
    },
    {
      "cell_type": "code",
      "metadata": {
        "id": "CpuwgvAk6kIq"
      },
      "source": [
        "# 곡 정보 경로 설정\r\n",
        "m_title=html.find_all('div',class_='rank01')\r\n",
        "m_artist=html.find_all('div',class_='rank02')\r\n",
        "\r\n",
        "# 직접 경로 설정\r\n",
        "# m_title=html.select('.service_list_song > table > tbody > tr > td > div.wrap > div.wrap_song_info > div.ellipsis.rank01 > span')\r\n",
        "# m_singer=html.select('.service_list_song > table > tbody > tr > td > div.wrap > div.wrap_song_info > div.ellipsis.rank02 > span')"
      ],
      "execution_count": 16,
      "outputs": []
    },
    {
      "cell_type": "code",
      "metadata": {
        "id": "0-qMXFyD6kuW"
      },
      "source": [
        "# 곡 정보 리스트화\r\n",
        "melon={}\r\n",
        "melon_t=[]\r\n",
        "melon_a=[]\r\n",
        "\r\n",
        "for i in range(100):\r\n",
        "  # text cleaning\r\n",
        "  t=m_title[i].text\r\n",
        "  t = t.replace('\\n','')\r\n",
        "  melon_t.append(t)\r\n",
        "  l=int(len(m_artist[i].text)/2)\r\n",
        "  t=m_artist[i].text[0:l]\r\n",
        "  t = t.replace('\\n','')\r\n",
        "  melon_a.append(t)\r\n",
        "\r\n",
        "melon['title']=melon_t\r\n",
        "melon['artist']=melon_a\r\n",
        "\r\n",
        "melon=pd.DataFrame(melon)"
      ],
      "execution_count": 17,
      "outputs": []
    },
    {
      "cell_type": "code",
      "metadata": {
        "colab": {
          "base_uri": "https://localhost:8080/",
          "height": 435
        },
        "id": "pnYAuczb6k4j",
        "outputId": "3ee7a200-e40d-4f5e-f8e5-864c8aa3ef79"
      },
      "source": [
        "# 리스트 출력\r\n",
        "melon"
      ],
      "execution_count": 18,
      "outputs": [
        {
          "output_type": "execute_result",
          "data": {
            "text/html": [
              "<div>\n",
              "<style scoped>\n",
              "    .dataframe tbody tr th:only-of-type {\n",
              "        vertical-align: middle;\n",
              "    }\n",
              "\n",
              "    .dataframe tbody tr th {\n",
              "        vertical-align: top;\n",
              "    }\n",
              "\n",
              "    .dataframe thead th {\n",
              "        text-align: right;\n",
              "    }\n",
              "</style>\n",
              "<table border=\"1\" class=\"dataframe\">\n",
              "  <thead>\n",
              "    <tr style=\"text-align: right;\">\n",
              "      <th></th>\n",
              "      <th>title</th>\n",
              "      <th>artist</th>\n",
              "    </tr>\n",
              "  </thead>\n",
              "  <tbody>\n",
              "    <tr>\n",
              "      <th>0</th>\n",
              "      <td>Celebrity</td>\n",
              "      <td>아이유</td>\n",
              "    </tr>\n",
              "    <tr>\n",
              "      <th>1</th>\n",
              "      <td>밤하늘의 별을(2020)</td>\n",
              "      <td>경서</td>\n",
              "    </tr>\n",
              "    <tr>\n",
              "      <th>2</th>\n",
              "      <td>VVS (Feat. JUSTHIS) (Prod. GroovyRoom)</td>\n",
              "      <td>미란이 (Mirani), 먼치맨(MUNCHMAN), Khundi Panda, 머쉬베...</td>\n",
              "    </tr>\n",
              "    <tr>\n",
              "      <th>3</th>\n",
              "      <td>Dynamite</td>\n",
              "      <td>방탄소년단</td>\n",
              "    </tr>\n",
              "    <tr>\n",
              "      <th>4</th>\n",
              "      <td>이 밤을 빌려 말해요 (바른연애 길잡이 X 10CM)</td>\n",
              "      <td>10CM</td>\n",
              "    </tr>\n",
              "    <tr>\n",
              "      <th>...</th>\n",
              "      <td>...</td>\n",
              "      <td>...</td>\n",
              "    </tr>\n",
              "    <tr>\n",
              "      <th>95</th>\n",
              "      <td>Rosario (Feat. CL, ZICO)</td>\n",
              "      <td>에픽하이 (EPIK HIGH)</td>\n",
              "    </tr>\n",
              "    <tr>\n",
              "      <th>96</th>\n",
              "      <td>놓아줘 (with 태연)</td>\n",
              "      <td>Crush</td>\n",
              "    </tr>\n",
              "    <tr>\n",
              "      <th>97</th>\n",
              "      <td>나로 바꾸자 (duet with JYP)</td>\n",
              "      <td>비</td>\n",
              "    </tr>\n",
              "    <tr>\n",
              "      <th>98</th>\n",
              "      <td>내 얘기 같아 (Feat. 헤이즈)</td>\n",
              "      <td>에픽하이 (EPIK HIGH)</td>\n",
              "    </tr>\n",
              "    <tr>\n",
              "      <th>99</th>\n",
              "      <td>Play With Life</td>\n",
              "      <td>화사 (Hwa Sa)</td>\n",
              "    </tr>\n",
              "  </tbody>\n",
              "</table>\n",
              "<p>100 rows × 2 columns</p>\n",
              "</div>"
            ],
            "text/plain": [
              "                                     title                                             artist\n",
              "0                                Celebrity                                                아이유\n",
              "1                            밤하늘의 별을(2020)                                                 경서\n",
              "2   VVS (Feat. JUSTHIS) (Prod. GroovyRoom)  미란이 (Mirani), 먼치맨(MUNCHMAN), Khundi Panda, 머쉬베...\n",
              "3                                 Dynamite                                              방탄소년단\n",
              "4            이 밤을 빌려 말해요 (바른연애 길잡이 X 10CM)                                               10CM\n",
              "..                                     ...                                                ...\n",
              "95                Rosario (Feat. CL, ZICO)                                   에픽하이 (EPIK HIGH)\n",
              "96                           놓아줘 (with 태연)                                              Crush\n",
              "97                  나로 바꾸자 (duet with JYP)                                                  비\n",
              "98                     내 얘기 같아 (Feat. 헤이즈)                                   에픽하이 (EPIK HIGH)\n",
              "99                          Play With Life                                        화사 (Hwa Sa)\n",
              "\n",
              "[100 rows x 2 columns]"
            ]
          },
          "metadata": {
            "tags": []
          },
          "execution_count": 18
        }
      ]
    }
  ]
}